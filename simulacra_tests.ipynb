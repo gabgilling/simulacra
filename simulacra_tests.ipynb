{
 "cells": [
  {
   "cell_type": "code",
   "execution_count": 83,
   "metadata": {},
   "outputs": [],
   "source": [
    "import pandas as pd\n",
    "import numpy as np\n",
    "import random"
   ]
  },
  {
   "cell_type": "code",
   "execution_count": 193,
   "metadata": {},
   "outputs": [],
   "source": [
    "class Simulator:\n",
    "    \"\"\"\n",
    "    Class to generate fake data\n",
    "    TODO: \n",
    "        figure out seed setting\n",
    "        generate correlated distributions\n",
    "        generate time series\n",
    "        linear / non linear combination of variables\n",
    "            generate coefficients\n",
    "        add a UI?\n",
    "        add option to add NAs to certain datapoints\n",
    "        emphasis on creating dependent variables\n",
    "    \"\"\"\n",
    "    \n",
    "    def __init__(self, num_rows: int, seed = 42):\n",
    "        \"\"\"\n",
    "        \"\"\"\n",
    "        \n",
    "        self.num_rows = num_rows\n",
    "        self.seed = np.random.seed(seed)\n",
    "    \n",
    "    def generate_categorical_column(self, num_categories: int, distribution = 'uniform', name: str = 'color'):\n",
    "        \"\"\"\n",
    "        Returns a Pandas Series with num_rows\n",
    "        \"\"\"\n",
    "        return pd.Series(data = self.generate_categorical_distribution(num_categories, distribution = distribution, name = name), \n",
    "                        index = range(self.num_rows), \n",
    "                        name = name,\n",
    "                        dtype= 'object')\n",
    "    \n",
    "    def generate_categorical_distribution(self, num_categories: int, distribution = 'uniform', name: str = 'color'):\n",
    "        \"\"\"\n",
    "        Specify a categorical feature's distribution\n",
    "        By default the distribution is uniform - all categories will have an equal chance of being drawn\n",
    "        User can also pass a size [num_categories] array of probabilities for each category\n",
    "        \"\"\"\n",
    "\n",
    "        categories = [name + \"_\" + str(i+1) for i in range(num_categories)]\n",
    "        if distribution == 'uniform':\n",
    "            np.random.seed(self.seed)\n",
    "            categorical_distribution = np.random.choice(categories, size = self.num_rows)\n",
    "\n",
    "        elif type(distribution) == list or type(distribution) == np.array:\n",
    "            categorical_distribution = np.random.choice(categories, size = self.num_rows, p = distribution)\n",
    "\n",
    "        if distribution != 'uniform' and len(distribution) != num_categories:\n",
    "            raise Exception(\"The number of probabilities should match the number of categories\")\n",
    "        \n",
    "        return categorical_distribution\n",
    "    \n",
    "    def generate_numerical_column(self, distribution_params = ['normal', 0, 1]):\n",
    "        \"\"\"\n",
    "        \"\"\"\n",
    "        return pd.Series(data = self.generate_numerical_distribution(distribution_params), \n",
    "                        index = range(self.num_rows), dtype = float)\n",
    "    \n",
    "    def generate_numerical_distribution(self, distribution_params = ['normal', 0, 1]):\n",
    "        \"\"\"\n",
    "        params: list to specify a numerical distribution of format ['distribution_name', first_param, second_param]\n",
    "        Example: distribution_params = ['binomial',1, 0.5]\n",
    "        \n",
    "        TODO: add other moments/params\n",
    "                what happens if too many params are assigned?\n",
    "              add other distributions\n",
    "        \"\"\"\n",
    "        dist_type = distribution_params[0]\n",
    "\n",
    "        if dist_type == 'normal':\n",
    "            numerical_distribution = np.random.normal(distribution_params[1], distribution_params[2], size = self.num_rows)\n",
    "        elif dist_type == 'binomial':\n",
    "            numerical_distribution = np.random.binomial(distribution_params[1], distribution_params[2], size = self.num_rows)\n",
    "        elif dist_type == 'beta':\n",
    "            numerical_distribution = np.random.beta(distribution_params[1], distribution_params[2], size = self.num_rows)\n",
    "        elif dist_type == 'poisson':\n",
    "            numerical_distribution = np.random.poisson(distribution_params[1], size = self.num_rows)\n",
    "        elif dist_type == 'logistic':\n",
    "            numerical_distribution = np.random.logistic(distribution_params[1], distribution_params[2], size = self.num_rows) \n",
    "\n",
    "        # catch errors\n",
    "        if dist_type not in ['normal', 'binomial', 'beta', 'poisson', 'logistic']:\n",
    "            raise Exception(\"Please choose a valid probability distribution\")\n",
    "        if len(distribution_params) < 2:\n",
    "            raise Exception(\"Please include parameters\")\n",
    "\n",
    "        return numerical_distribution\n",
    "\n",
    "    def generate_dataframe(self, numeric_columns = None, categorical_columns = None, time_columns= None, col_names = None):\n",
    "        \"\"\"\n",
    "        E.g. simulated dataset with 3 continuous and 2 categorical columns\n",
    "        numeric_columns = [['normal', 0, 1], ['binomial', 1, 0.5], ['normal', 0, 0.5]]\n",
    "        categorical_columns = [4, [3, [0.3, 0.5, 0.2]]]\n",
    "        \"\"\"\n",
    "        # specify number of cat and numerical columns\n",
    "        # option to create a dependent variable as a combination of independent variables\n",
    "\n",
    "        df = pd.DataFrame(index = range(self.num_rows))\n",
    "        \n",
    "        if numeric_columns is not None:\n",
    "            for ix in range(len(numeric_columns)):\n",
    "                s = self.generate_numerical_column(numeric_columns[ix])\n",
    "                df = pd.concat([df, s], axis = 1)\n",
    "        \n",
    "        if categorical_columns is not None:\n",
    "            for ix in range(len(categorical_columns)):\n",
    "                col = categorical_columns[ix]\n",
    "                num_categories = col[0]\n",
    "                distribution = col[1]\n",
    "                if len(col) == 3:\n",
    "                    name = col[2]\n",
    "                elif len(col) < 3:\n",
    "                    name = 'category_' + str(ix)    \n",
    "                s = self.generate_categorical_column(num_categories = num_categories, \n",
    "                                                    distribution = distribution, name = name)\n",
    "                df = pd.concat([df, s], axis = 1)\n",
    "        \n",
    "        if time_columns is not None:\n",
    "            for col in time_columns:\n",
    "                s = self.generate_time_column(col)\n",
    "                df = pd.concat([df, s], axis = 1)\n",
    "        \n",
    "        if col_names is not None:\n",
    "            df.columns = col_names\n",
    "        \n",
    "        return df\n",
    "\n",
    "    \n",
    "a = Simulator(num_rows = 100)"
   ]
  },
  {
   "cell_type": "code",
   "execution_count": null,
   "metadata": {},
   "outputs": [],
   "source": []
  },
  {
   "cell_type": "code",
   "execution_count": 178,
   "metadata": {},
   "outputs": [
    {
     "data": {
      "text/plain": "0     age_2\n1     age_3\n2     age_2\n3     age_2\n4     age_1\n      ...  \n95    age_2\n96    age_2\n97    age_2\n98    age_1\n99    age_1\nLength: 100, dtype: object"
     },
     "execution_count": 178,
     "metadata": {},
     "output_type": "execute_result"
    }
   ],
   "source": [
    "a.generate_categorical_column(num_categories = 3, distribution = [0.3, 0.5, 0.2], name = 'age')"
   ]
  },
  {
   "cell_type": "code",
   "execution_count": 179,
   "metadata": {},
   "outputs": [
    {
     "data": {
      "text/plain": "0     age_1\n1     age_2\n2     age_2\n3     age_2\n4     age_4\n      ...  \n95    age_2\n96    age_2\n97    age_3\n98    age_3\n99    age_2\nLength: 100, dtype: object"
     },
     "execution_count": 179,
     "metadata": {},
     "output_type": "execute_result"
    }
   ],
   "source": [
    "a.generate_categorical_column(num_categories = 4, distribution = [0.3, 0.5, 0.1, 0.1], name = 'age')"
   ]
  },
  {
   "cell_type": "code",
   "execution_count": 196,
   "metadata": {},
   "outputs": [],
   "source": [
    "numeric_columns = [['normal', 0, 1], ['binomial', 1, 0.5], ['normal', 0, 0.5]]\n",
    "categorical_columns = [[4, 'uniform', 'age'], [3, [0.3, 0.5, 0.2]]]\n",
    "df = a.generate_dataframe(numeric_columns, categorical_columns)"
   ]
  },
  {
   "cell_type": "code",
   "execution_count": 197,
   "metadata": {},
   "outputs": [
    {
     "data": {
      "text/html": "<div>\n<style scoped>\n    .dataframe tbody tr th:only-of-type {\n        vertical-align: middle;\n    }\n\n    .dataframe tbody tr th {\n        vertical-align: top;\n    }\n\n    .dataframe thead th {\n        text-align: right;\n    }\n</style>\n<table border=\"1\" class=\"dataframe\">\n  <thead>\n    <tr style=\"text-align: right;\">\n      <th></th>\n      <th>0</th>\n      <th>0</th>\n      <th>0</th>\n      <th>age</th>\n      <th>category_1</th>\n    </tr>\n  </thead>\n  <tbody>\n    <tr>\n      <th>0</th>\n      <td>0.701757</td>\n      <td>0.0</td>\n      <td>1.144139</td>\n      <td>age_4</td>\n      <td>category_1_1</td>\n    </tr>\n    <tr>\n      <th>1</th>\n      <td>0.456962</td>\n      <td>1.0</td>\n      <td>0.154878</td>\n      <td>age_3</td>\n      <td>category_1_2</td>\n    </tr>\n    <tr>\n      <th>2</th>\n      <td>-0.126878</td>\n      <td>1.0</td>\n      <td>-1.016491</td>\n      <td>age_3</td>\n      <td>category_1_2</td>\n    </tr>\n    <tr>\n      <th>3</th>\n      <td>-0.253141</td>\n      <td>0.0</td>\n      <td>0.003366</td>\n      <td>age_1</td>\n      <td>category_1_3</td>\n    </tr>\n    <tr>\n      <th>4</th>\n      <td>-1.372811</td>\n      <td>0.0</td>\n      <td>-0.833669</td>\n      <td>age_3</td>\n      <td>category_1_2</td>\n    </tr>\n  </tbody>\n</table>\n</div>",
      "text/plain": "          0    0         0    age    category_1\n0  0.701757  0.0  1.144139  age_4  category_1_1\n1  0.456962  1.0  0.154878  age_3  category_1_2\n2 -0.126878  1.0 -1.016491  age_3  category_1_2\n3 -0.253141  0.0  0.003366  age_1  category_1_3\n4 -1.372811  0.0 -0.833669  age_3  category_1_2"
     },
     "execution_count": 197,
     "metadata": {},
     "output_type": "execute_result"
    }
   ],
   "source": [
    "df.head()"
   ]
  },
  {
   "cell_type": "code",
   "execution_count": 188,
   "metadata": {},
   "outputs": [],
   "source": [
    "df.columns = ['num_1', 'num_2', 'num_3', 'cat_1', 'cat_2']"
   ]
  },
  {
   "cell_type": "code",
   "execution_count": 189,
   "metadata": {},
   "outputs": [
    {
     "data": {
      "text/plain": "Index(['num_1', 'num_2', 'num_3', 'cat_1', 'cat_2'], dtype='object')"
     },
     "execution_count": 189,
     "metadata": {},
     "output_type": "execute_result"
    }
   ],
   "source": [
    "df.columns"
   ]
  },
  {
   "cell_type": "code",
   "execution_count": null,
   "metadata": {},
   "outputs": [],
   "source": []
  }
 ],
 "metadata": {
  "kernelspec": {
   "display_name": "Python 3.8.2 64-bit",
   "name": "python382jvsc74a57bd031f2aee4e71d21fbe5cf8b01ff0e069b9275f58929596ceb00d14d90e3e16cd6"
  },
  "language_info": {
   "codemirror_mode": {
    "name": "ipython",
    "version": 3
   },
   "file_extension": ".py",
   "mimetype": "text/x-python",
   "name": "python",
   "nbconvert_exporter": "python",
   "pygments_lexer": "ipython3",
   "version": "3.8.2"
  },
  "metadata": {
   "interpreter": {
    "hash": "31f2aee4e71d21fbe5cf8b01ff0e069b9275f58929596ceb00d14d90e3e16cd6"
   }
  },
  "orig_nbformat": 2
 },
 "nbformat": 4,
 "nbformat_minor": 2
}