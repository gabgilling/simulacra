{
 "cells": [
  {
   "cell_type": "code",
   "execution_count": 83,
   "metadata": {},
   "outputs": [],
   "source": [
    "import pandas as pd\n",
    "import numpy as np\n",
    "import random"
   ]
  },
  {
   "cell_type": "code",
   "execution_count": 98,
   "metadata": {},
   "outputs": [],
   "source": [
    "class Simulator():\n",
    "    \"\"\"\n",
    "    Class to generate fake data\n",
    "    TODO: figure out seed setting\n",
    "    \"\"\"\n",
    "    \n",
    "    def __init__(self, num_rows: int, seed = 42):\n",
    "        \"\"\"\n",
    "        Initialize an empty Pandas DataFrame\n",
    "        \"\"\"\n",
    "        \n",
    "        self.num_rows = num_rows\n",
    "        self.seed = np.random.seed(seed)\n",
    "    \n",
    "    # def get_num_rows(self):\n",
    "    #     return self.num_rows\n",
    "    \n",
    "    def generate_categorical_column(self, num_categories: int):\n",
    "        \"\"\"\n",
    "        Returns a Pandas Series with num_rows\n",
    "        \"\"\"\n",
    "        return pd.Series(data = self.generate_categorical_distribution(num_categories), index = range(self.num_rows), dtype= 'object')\n",
    "    \n",
    "    def generate_categorical_distribution(self, num_categories: int, name: str = 'color', distribution = 'uniform'):\n",
    "        \"\"\"\n",
    "        Specify a categorical feature's distribution\n",
    "        By default the distribution is uniform - all categories will have an equal chance of being drawn\n",
    "        User can also pass a size [num_categories] array of probabilities for each category\n",
    "        \"\"\"\n",
    "\n",
    "        categories = [name + \"_\" + str(i+1) for i in range(4)]\n",
    "        if distribution == 'uniform':\n",
    "            np.random.seed(self.seed)\n",
    "            categorical_column = np.random.choice(categories, size = self.num_rows)\n",
    "        \n",
    "        return categorical_column\n",
    "\n",
    "\n",
    "\n"
   ]
  },
  {
   "cell_type": "code",
   "execution_count": 99,
   "metadata": {},
   "outputs": [],
   "source": [
    "a = Simulator(num_rows = 100)"
   ]
  },
  {
   "cell_type": "code",
   "execution_count": 102,
   "metadata": {},
   "outputs": [
    {
     "data": {
      "text/plain": "0     color_3\n1     color_1\n2     color_2\n3     color_4\n4     color_2\n       ...   \n95    color_2\n96    color_4\n97    color_2\n98    color_4\n99    color_3\nLength: 100, dtype: object"
     },
     "execution_count": 102,
     "metadata": {},
     "output_type": "execute_result"
    }
   ],
   "source": [
    "a.generate_categorical_column(num_categories = 4)"
   ]
  },
  {
   "cell_type": "code",
   "execution_count": null,
   "metadata": {},
   "outputs": [],
   "source": []
  },
  {
   "cell_type": "code",
   "execution_count": null,
   "metadata": {},
   "outputs": [],
   "source": []
  }
 ],
 "metadata": {
  "kernelspec": {
   "display_name": "Python 3.8.2 64-bit",
   "name": "python382jvsc74a57bd031f2aee4e71d21fbe5cf8b01ff0e069b9275f58929596ceb00d14d90e3e16cd6"
  },
  "language_info": {
   "codemirror_mode": {
    "name": "ipython",
    "version": 3
   },
   "file_extension": ".py",
   "mimetype": "text/x-python",
   "name": "python",
   "nbconvert_exporter": "python",
   "pygments_lexer": "ipython3",
   "version": "3.8.2"
  },
  "metadata": {
   "interpreter": {
    "hash": "31f2aee4e71d21fbe5cf8b01ff0e069b9275f58929596ceb00d14d90e3e16cd6"
   }
  },
  "orig_nbformat": 2
 },
 "nbformat": 4,
 "nbformat_minor": 2
}