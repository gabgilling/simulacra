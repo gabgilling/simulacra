{
 "cells": [
  {
   "cell_type": "code",
   "execution_count": 1,
   "metadata": {},
   "outputs": [],
   "source": [
    "import pandas as pd\n",
    "import numpy as np"
   ]
  },
  {
   "cell_type": "code",
   "execution_count": 34,
   "metadata": {},
   "outputs": [],
   "source": [
    "class Simulator():\n",
    "    \"\"\"\n",
    "    Class to generate fake data\n",
    "    \"\"\"\n",
    "\n",
    "    def __init__(self, num_rows: int):\n",
    "        \"\"\"\n",
    "        Initialize an empty Pandas DataFrame\n",
    "        \"\"\"\n",
    "        self.num_rows = num_rows\n",
    "    \n",
    "    # def get_num_rows(self):\n",
    "    #     return self.num_rows\n",
    "    \n",
    "    def generate_categorical_column(self, num_categories: int):\n",
    "        \"\"\"\n",
    "        Returns a Pandas Series with num_rows\n",
    "        \"\"\"\n",
    "        return pd.Series(index = range(self.num_rows), dtype= 'object')\n",
    "    \n",
    "    def categorical_distribution(self, name: str = 'color', num_categories: int, distribution = 'uniform'):\n",
    "        \"\"\"\n",
    "        Specify a categorical feature's distribution\n",
    "        By default the distribution is uniform - all categories will have an equal chance of being drawn\n",
    "        User can also pass a size [num_categories] array of probabilities for each category\n",
    "        \"\"\"\n",
    "        if distribution == 'uniform':\n",
    "\n",
    "\n",
    "\n"
   ]
  },
  {
   "cell_type": "code",
   "execution_count": 35,
   "metadata": {},
   "outputs": [],
   "source": [
    "a = Simulator(num_rows = 100)"
   ]
  },
  {
   "cell_type": "code",
   "execution_count": 36,
   "metadata": {},
   "outputs": [
    {
     "data": {
      "text/plain": "0     NaN\n1     NaN\n2     NaN\n3     NaN\n4     NaN\n     ... \n95    NaN\n96    NaN\n97    NaN\n98    NaN\n99    NaN\nLength: 100, dtype: object"
     },
     "execution_count": 36,
     "metadata": {},
     "output_type": "execute_result"
    }
   ],
   "source": [
    "a.generate_categorical_column(0)"
   ]
  },
  {
   "cell_type": "code",
   "execution_count": null,
   "metadata": {},
   "outputs": [],
   "source": []
  }
 ],
 "metadata": {
  "kernelspec": {
   "display_name": "Python 3.8.2 64-bit",
   "name": "python382jvsc74a57bd031f2aee4e71d21fbe5cf8b01ff0e069b9275f58929596ceb00d14d90e3e16cd6"
  },
  "language_info": {
   "codemirror_mode": {
    "name": "ipython",
    "version": 3
   },
   "file_extension": ".py",
   "mimetype": "text/x-python",
   "name": "python",
   "nbconvert_exporter": "python",
   "pygments_lexer": "ipython3",
   "version": "3.8.2"
  },
  "metadata": {
   "interpreter": {
    "hash": "31f2aee4e71d21fbe5cf8b01ff0e069b9275f58929596ceb00d14d90e3e16cd6"
   }
  },
  "orig_nbformat": 2
 },
 "nbformat": 4,
 "nbformat_minor": 2
}