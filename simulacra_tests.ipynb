{
 "cells": [
  {
   "cell_type": "code",
   "execution_count": 83,
   "metadata": {},
   "outputs": [],
   "source": [
    "import pandas as pd\n",
    "import numpy as np\n",
    "import random"
   ]
  },
  {
   "cell_type": "code",
   "execution_count": 128,
   "metadata": {},
   "outputs": [],
   "source": [
    "class Simulator:\n",
    "    \"\"\"\n",
    "    Class to generate fake data\n",
    "    TODO: \n",
    "        figure out seed setting\n",
    "        generate correlated distributions\n",
    "        generate time series\n",
    "        linear / non linear combination of variables\n",
    "            generate coefficients\n",
    "        add a UI?\n",
    "        add option to add NAs to certain datapoints\n",
    "    \"\"\"\n",
    "    \n",
    "    def __init__(self, num_rows: int, seed = 42):\n",
    "        \"\"\"\n",
    "        \"\"\"\n",
    "        \n",
    "        self.num_rows = num_rows\n",
    "        self.seed = np.random.seed(seed)\n",
    "    \n",
    "    def generate_categorical_column(self, num_categories: int, distribution = 'uniform'):\n",
    "        \"\"\"\n",
    "        Returns a Pandas Series with num_rows\n",
    "        \"\"\"\n",
    "        return pd.Series(data = self.generate_categorical_distribution(num_categories), index = range(self.num_rows), dtype= 'object')\n",
    "    \n",
    "    def generate_categorical_distribution(self, num_categories: int, name: str = 'color', distribution = 'uniform'):\n",
    "        \"\"\"\n",
    "        Specify a categorical feature's distribution\n",
    "        By default the distribution is uniform - all categories will have an equal chance of being drawn\n",
    "        User can also pass a size [num_categories] array of probabilities for each category\n",
    "        \"\"\"\n",
    "\n",
    "        categories = [name + \"_\" + str(i+1) for i in range(4)]\n",
    "        if distribution == 'uniform':\n",
    "            np.random.seed(self.seed)\n",
    "            categorical_distribution = np.random.choice(categories, size = self.num_rows)\n",
    "\n",
    "        elif type(distribution) == list or type(distribution) == np.array:\n",
    "            categorical_distribution = np.random.choice(categories, size = self.num_rows, p = distribution)\n",
    "        \n",
    "        return categorical_distribution\n",
    "    \n",
    "    def generate_numerical_column(self, distribution_params = ['normal', 0, 1]):\n",
    "        \"\"\"\n",
    "        \"\"\"\n",
    "        return pd.Series(data = self.generate_numerical_distribution(distribution_params), index = range(self.num_rows), dtype = float)\n",
    "    \n",
    "    def generate_numerical_distribution(self, distribution_params = ['normal', 0, 1]):\n",
    "        \"\"\"\n",
    "        params: list to specify a numerical distribution of format ['distribution_name', first_param, second_param]\n",
    "        Example: distribution_params = ['binomial',1, 0.5]\n",
    "        \n",
    "        TODO: add other moments/params\n",
    "                what happens if too many params are assigned?\n",
    "        \"\"\"\n",
    "        dist_type = distribution_params[0]\n",
    "\n",
    "        if dist_type == 'normal':\n",
    "            numerical_distribution = np.random.normal(distribution_params[1], distribution_params[2], size = self.num_rows)\n",
    "        elif dist_type == 'binomial':\n",
    "            numerical_distribution = np.random.binomial(distribution_params[1], distribution_params[2], size = self.num_rows)\n",
    "        elif dist_type == 'beta':\n",
    "            numerical_distribution = np.random.beta(distribution_params[1], distribution_params[2], size = self.num_rows)\n",
    "        elif dist_type == 'poisson':\n",
    "            numerical_distribution = np.random.poisson(distribution_params[1], size = self.num_rows)\n",
    "        elif dist_type == 'logistic':\n",
    "            numerical_distribution = np.random.logistic(distribution_params[1], distribution_params[2], size = self.num_rows) \n",
    "\n",
    "        # catch errors\n",
    "        if dist_type not in ['normal', 'binomial', 'beta', 'poisson', 'logistic']:\n",
    "            raise Exception(\"Please choose a valid probability distribution\")\n",
    "        if len(distribution_params) < 2:\n",
    "            raise Exception(\"Please include parameters\")\n",
    "\n",
    "        return numerical_distribution\n",
    "\n",
    "    def generate_dataframe():\n",
    "        \"\"\"\n",
    "        \"\"\"\n",
    "    \n",
    "    "
   ]
  },
  {
   "cell_type": "code",
   "execution_count": 129,
   "metadata": {},
   "outputs": [],
   "source": [
    "a = Simulator(num_rows = 100)"
   ]
  },
  {
   "cell_type": "code",
   "execution_count": 130,
   "metadata": {},
   "outputs": [
    {
     "data": {
      "text/plain": "0     color_2\n1     color_2\n2     color_4\n3     color_1\n4     color_2\n       ...   \n95    color_2\n96    color_2\n97    color_1\n98    color_3\n99    color_3\nLength: 100, dtype: object"
     },
     "execution_count": 130,
     "metadata": {},
     "output_type": "execute_result"
    }
   ],
   "source": [
    "a.generate_categorical_column(num_categories = 4, distribution = [0.25, 0.3, 0.25, 0.2])"
   ]
  },
  {
   "cell_type": "code",
   "execution_count": 131,
   "metadata": {},
   "outputs": [
    {
     "ename": "Exception",
     "evalue": "Please choose a valid probability distribution",
     "output_type": "error",
     "traceback": [
      "\u001b[0;31m---------------------------------------------------------------------------\u001b[0m",
      "\u001b[0;31mException\u001b[0m                                 Traceback (most recent call last)",
      "\u001b[0;32m/var/folders/6d/qttwynm17cvbrhqy4k7rm57r0000gn/T/ipykernel_45987/1615057358.py\u001b[0m in \u001b[0;36m<module>\u001b[0;34m\u001b[0m\n\u001b[0;32m----> 1\u001b[0;31m \u001b[0ma\u001b[0m\u001b[0;34m.\u001b[0m\u001b[0mgenerate_numerical_column\u001b[0m\u001b[0;34m(\u001b[0m\u001b[0;34m[\u001b[0m\u001b[0;34m'dirichlet'\u001b[0m\u001b[0;34m]\u001b[0m\u001b[0;34m)\u001b[0m\u001b[0;34m\u001b[0m\u001b[0;34m\u001b[0m\u001b[0m\n\u001b[0m",
      "\u001b[0;32m/var/folders/6d/qttwynm17cvbrhqy4k7rm57r0000gn/T/ipykernel_45987/2663517413.py\u001b[0m in \u001b[0;36mgenerate_numerical_column\u001b[0;34m(self, distribution_params)\u001b[0m\n\u001b[1;32m     45\u001b[0m         \"\"\"\n\u001b[1;32m     46\u001b[0m         \"\"\"\n\u001b[0;32m---> 47\u001b[0;31m         \u001b[0;32mreturn\u001b[0m \u001b[0mpd\u001b[0m\u001b[0;34m.\u001b[0m\u001b[0mSeries\u001b[0m\u001b[0;34m(\u001b[0m\u001b[0mdata\u001b[0m \u001b[0;34m=\u001b[0m \u001b[0mself\u001b[0m\u001b[0;34m.\u001b[0m\u001b[0mgenerate_numerical_distribution\u001b[0m\u001b[0;34m(\u001b[0m\u001b[0mdistribution_params\u001b[0m\u001b[0;34m)\u001b[0m\u001b[0;34m,\u001b[0m \u001b[0mindex\u001b[0m \u001b[0;34m=\u001b[0m \u001b[0mrange\u001b[0m\u001b[0;34m(\u001b[0m\u001b[0mself\u001b[0m\u001b[0;34m.\u001b[0m\u001b[0mnum_rows\u001b[0m\u001b[0;34m)\u001b[0m\u001b[0;34m,\u001b[0m \u001b[0mdtype\u001b[0m \u001b[0;34m=\u001b[0m \u001b[0mfloat\u001b[0m\u001b[0;34m)\u001b[0m\u001b[0;34m\u001b[0m\u001b[0;34m\u001b[0m\u001b[0m\n\u001b[0m\u001b[1;32m     48\u001b[0m \u001b[0;34m\u001b[0m\u001b[0m\n\u001b[1;32m     49\u001b[0m     \u001b[0;32mdef\u001b[0m \u001b[0mgenerate_numerical_distribution\u001b[0m\u001b[0;34m(\u001b[0m\u001b[0mself\u001b[0m\u001b[0;34m,\u001b[0m \u001b[0mdistribution_params\u001b[0m \u001b[0;34m=\u001b[0m \u001b[0;34m[\u001b[0m\u001b[0;34m'normal'\u001b[0m\u001b[0;34m,\u001b[0m \u001b[0;36m0\u001b[0m\u001b[0;34m,\u001b[0m \u001b[0;36m1\u001b[0m\u001b[0;34m]\u001b[0m\u001b[0;34m)\u001b[0m\u001b[0;34m:\u001b[0m\u001b[0;34m\u001b[0m\u001b[0;34m\u001b[0m\u001b[0m\n",
      "\u001b[0;32m/var/folders/6d/qttwynm17cvbrhqy4k7rm57r0000gn/T/ipykernel_45987/2663517413.py\u001b[0m in \u001b[0;36mgenerate_numerical_distribution\u001b[0;34m(self, distribution_params)\u001b[0m\n\u001b[1;32m     70\u001b[0m         \u001b[0;31m# catch errors\u001b[0m\u001b[0;34m\u001b[0m\u001b[0;34m\u001b[0m\u001b[0;34m\u001b[0m\u001b[0m\n\u001b[1;32m     71\u001b[0m         \u001b[0;32mif\u001b[0m \u001b[0mdist_type\u001b[0m \u001b[0;32mnot\u001b[0m \u001b[0;32min\u001b[0m \u001b[0;34m[\u001b[0m\u001b[0;34m'normal'\u001b[0m\u001b[0;34m,\u001b[0m \u001b[0;34m'binomial'\u001b[0m\u001b[0;34m,\u001b[0m \u001b[0;34m'beta'\u001b[0m\u001b[0;34m,\u001b[0m \u001b[0;34m'poisson'\u001b[0m\u001b[0;34m,\u001b[0m \u001b[0;34m'logistic'\u001b[0m\u001b[0;34m]\u001b[0m\u001b[0;34m:\u001b[0m\u001b[0;34m\u001b[0m\u001b[0;34m\u001b[0m\u001b[0m\n\u001b[0;32m---> 72\u001b[0;31m             \u001b[0;32mraise\u001b[0m \u001b[0mException\u001b[0m\u001b[0;34m(\u001b[0m\u001b[0;34m\"Please choose a valid probability distribution\"\u001b[0m\u001b[0;34m)\u001b[0m\u001b[0;34m\u001b[0m\u001b[0;34m\u001b[0m\u001b[0m\n\u001b[0m\u001b[1;32m     73\u001b[0m         \u001b[0;32mif\u001b[0m \u001b[0mlen\u001b[0m\u001b[0;34m(\u001b[0m\u001b[0mdistribution_params\u001b[0m\u001b[0;34m)\u001b[0m \u001b[0;34m<\u001b[0m \u001b[0;36m2\u001b[0m\u001b[0;34m:\u001b[0m\u001b[0;34m\u001b[0m\u001b[0;34m\u001b[0m\u001b[0m\n\u001b[1;32m     74\u001b[0m             \u001b[0;32mraise\u001b[0m \u001b[0mException\u001b[0m\u001b[0;34m(\u001b[0m\u001b[0;34m\"Please include parameters\"\u001b[0m\u001b[0;34m)\u001b[0m\u001b[0;34m\u001b[0m\u001b[0;34m\u001b[0m\u001b[0m\n",
      "\u001b[0;31mException\u001b[0m: Please choose a valid probability distribution"
     ]
    }
   ],
   "source": [
    "a.generate_numerical_column(['dirichlet'])"
   ]
  },
  {
   "cell_type": "code",
   "execution_count": null,
   "metadata": {},
   "outputs": [],
   "source": []
  }
 ],
 "metadata": {
  "kernelspec": {
   "display_name": "Python 3.8.2 64-bit",
   "name": "python382jvsc74a57bd031f2aee4e71d21fbe5cf8b01ff0e069b9275f58929596ceb00d14d90e3e16cd6"
  },
  "language_info": {
   "codemirror_mode": {
    "name": "ipython",
    "version": 3
   },
   "file_extension": ".py",
   "mimetype": "text/x-python",
   "name": "python",
   "nbconvert_exporter": "python",
   "pygments_lexer": "ipython3",
   "version": "3.8.2"
  },
  "metadata": {
   "interpreter": {
    "hash": "31f2aee4e71d21fbe5cf8b01ff0e069b9275f58929596ceb00d14d90e3e16cd6"
   }
  },
  "orig_nbformat": 2
 },
 "nbformat": 4,
 "nbformat_minor": 2
}